{
 "cells": [
  {
   "cell_type": "code",
   "execution_count": 1,
   "id": "cb8121df-3481-40b9-b251-bcad335b19d7",
   "metadata": {},
   "outputs": [
    {
     "name": "stdout",
     "output_type": "stream",
     "text": [
      "--2023-11-07 17:48:33--  https://github.com/erkansirin78/datasets/raw/master/OnlineRetail2.csv\n",
      "Resolving github.com (github.com)... 140.82.121.4\n",
      "Connecting to github.com (github.com)|140.82.121.4|:443... connected.\n",
      "HTTP request sent, awaiting response... 302 Found\n",
      "Location: https://raw.githubusercontent.com/erkansirin78/datasets/master/OnlineRetail2.csv [following]\n",
      "--2023-11-07 17:48:34--  https://raw.githubusercontent.com/erkansirin78/datasets/master/OnlineRetail2.csv\n",
      "Resolving raw.githubusercontent.com (raw.githubusercontent.com)... 185.199.110.133, 185.199.111.133, 185.199.108.133, ...\n",
      "Connecting to raw.githubusercontent.com (raw.githubusercontent.com)|185.199.110.133|:443... connected.\n",
      "HTTP request sent, awaiting response... 200 OK\n",
      "Length: 48039726 (46M) [text/plain]\n",
      "Saving to: ‘OnlineRetail2.csv’\n",
      "\n",
      "OnlineRetail2.csv   100%[===================>]  45.81M  11.7MB/s    in 4.0s    \n",
      "\n",
      "2023-11-07 17:48:40 (11.3 MB/s) - ‘OnlineRetail2.csv’ saved [48039726/48039726]\n",
      "\n"
     ]
    }
   ],
   "source": [
    "! wget https://github.com/erkansirin78/datasets/raw/master/OnlineRetail2.csv"
   ]
  },
  {
   "cell_type": "code",
   "execution_count": 2,
   "id": "efab694b-d69f-4f04-8701-587a2f12b2f6",
   "metadata": {},
   "outputs": [],
   "source": [
    "from pyspark.sql import SparkSession"
   ]
  },
  {
   "cell_type": "code",
   "execution_count": 3,
   "id": "940fe76d-fb30-4ded-a5e7-aca20ca8a2f7",
   "metadata": {},
   "outputs": [
    {
     "name": "stderr",
     "output_type": "stream",
     "text": [
      "Setting default log level to \"WARN\".\n",
      "To adjust logging level use sc.setLogLevel(newLevel). For SparkR, use setLogLevel(newLevel).\n",
      "23/11/07 17:50:41 WARN NativeCodeLoader: Unable to load native-hadoop library for your platform... using builtin-java classes where applicable\n"
     ]
    }
   ],
   "source": [
    "spark = SparkSession.builder \\\n",
    ".appName(\"Manuel Schema\") \\\n",
    ".master(\"local[2]\") \\\n",
    ".getOrCreate()"
   ]
  },
  {
   "cell_type": "code",
   "execution_count": 4,
   "id": "8fda3731-55f7-457f-bbfc-634fcebb0cdb",
   "metadata": {},
   "outputs": [
    {
     "name": "stderr",
     "output_type": "stream",
     "text": [
      "                                                                                \r"
     ]
    }
   ],
   "source": [
    "df = spark.read.format(\"csv\").option(\"header\", True).option(\"inferSchema\", True).load(\"file:///opt/examples/OnlineRetail2.csv\")"
   ]
  },
  {
   "cell_type": "code",
   "execution_count": 5,
   "id": "8140a7d7-c071-4052-a79f-74f47c9a5e93",
   "metadata": {},
   "outputs": [
    {
     "name": "stderr",
     "output_type": "stream",
     "text": [
      "                                                                                \r"
     ]
    },
    {
     "data": {
      "text/plain": [
       "541909"
      ]
     },
     "execution_count": 5,
     "metadata": {},
     "output_type": "execute_result"
    }
   ],
   "source": [
    "df.count()"
   ]
  },
  {
   "cell_type": "code",
   "execution_count": 6,
   "id": "87f1f732-6e86-4f08-b453-bf497a600e09",
   "metadata": {},
   "outputs": [
    {
     "data": {
      "text/html": [
       "<div>\n",
       "<style scoped>\n",
       "    .dataframe tbody tr th:only-of-type {\n",
       "        vertical-align: middle;\n",
       "    }\n",
       "\n",
       "    .dataframe tbody tr th {\n",
       "        vertical-align: top;\n",
       "    }\n",
       "\n",
       "    .dataframe thead th {\n",
       "        text-align: right;\n",
       "    }\n",
       "</style>\n",
       "<table border=\"1\" class=\"dataframe\">\n",
       "  <thead>\n",
       "    <tr style=\"text-align: right;\">\n",
       "      <th></th>\n",
       "      <th>InvoiceNo</th>\n",
       "      <th>StockCode</th>\n",
       "      <th>Description</th>\n",
       "      <th>Quantity</th>\n",
       "      <th>InvoiceDate</th>\n",
       "      <th>UnitPrice</th>\n",
       "      <th>CustomerID</th>\n",
       "      <th>Country</th>\n",
       "    </tr>\n",
       "  </thead>\n",
       "  <tbody>\n",
       "    <tr>\n",
       "      <th>0</th>\n",
       "      <td>536365</td>\n",
       "      <td>85123A</td>\n",
       "      <td>WHITE HANGING HEART T-LIGHT HOLDER</td>\n",
       "      <td>6</td>\n",
       "      <td>2010-12-01 08:26:00</td>\n",
       "      <td>2.55</td>\n",
       "      <td>17850.0</td>\n",
       "      <td>United Kingdom</td>\n",
       "    </tr>\n",
       "    <tr>\n",
       "      <th>1</th>\n",
       "      <td>536365</td>\n",
       "      <td>71053</td>\n",
       "      <td>WHITE METAL LANTERN</td>\n",
       "      <td>6</td>\n",
       "      <td>2010-12-01 08:26:00</td>\n",
       "      <td>3.39</td>\n",
       "      <td>17850.0</td>\n",
       "      <td>United Kingdom</td>\n",
       "    </tr>\n",
       "    <tr>\n",
       "      <th>2</th>\n",
       "      <td>536365</td>\n",
       "      <td>84406B</td>\n",
       "      <td>CREAM CUPID HEARTS COAT HANGER</td>\n",
       "      <td>8</td>\n",
       "      <td>2010-12-01 08:26:00</td>\n",
       "      <td>2.75</td>\n",
       "      <td>17850.0</td>\n",
       "      <td>United Kingdom</td>\n",
       "    </tr>\n",
       "    <tr>\n",
       "      <th>3</th>\n",
       "      <td>536365</td>\n",
       "      <td>84029G</td>\n",
       "      <td>KNITTED UNION FLAG HOT WATER BOTTLE</td>\n",
       "      <td>6</td>\n",
       "      <td>2010-12-01 08:26:00</td>\n",
       "      <td>3.39</td>\n",
       "      <td>17850.0</td>\n",
       "      <td>United Kingdom</td>\n",
       "    </tr>\n",
       "    <tr>\n",
       "      <th>4</th>\n",
       "      <td>536365</td>\n",
       "      <td>84029E</td>\n",
       "      <td>RED WOOLLY HOTTIE WHITE HEART.</td>\n",
       "      <td>6</td>\n",
       "      <td>2010-12-01 08:26:00</td>\n",
       "      <td>3.39</td>\n",
       "      <td>17850.0</td>\n",
       "      <td>United Kingdom</td>\n",
       "    </tr>\n",
       "  </tbody>\n",
       "</table>\n",
       "</div>"
      ],
      "text/plain": [
       "  InvoiceNo StockCode                          Description  Quantity  \\\n",
       "0    536365    85123A   WHITE HANGING HEART T-LIGHT HOLDER         6   \n",
       "1    536365     71053                  WHITE METAL LANTERN         6   \n",
       "2    536365    84406B       CREAM CUPID HEARTS COAT HANGER         8   \n",
       "3    536365    84029G  KNITTED UNION FLAG HOT WATER BOTTLE         6   \n",
       "4    536365    84029E       RED WOOLLY HOTTIE WHITE HEART.         6   \n",
       "\n",
       "          InvoiceDate  UnitPrice  CustomerID         Country  \n",
       "0 2010-12-01 08:26:00       2.55     17850.0  United Kingdom  \n",
       "1 2010-12-01 08:26:00       3.39     17850.0  United Kingdom  \n",
       "2 2010-12-01 08:26:00       2.75     17850.0  United Kingdom  \n",
       "3 2010-12-01 08:26:00       3.39     17850.0  United Kingdom  \n",
       "4 2010-12-01 08:26:00       3.39     17850.0  United Kingdom  "
      ]
     },
     "execution_count": 6,
     "metadata": {},
     "output_type": "execute_result"
    }
   ],
   "source": [
    "df.limit(5).toPandas()"
   ]
  },
  {
   "cell_type": "code",
   "execution_count": 7,
   "id": "fe557d74-e4c9-494e-a030-be8293f2be4a",
   "metadata": {},
   "outputs": [
    {
     "name": "stdout",
     "output_type": "stream",
     "text": [
      "+---------+---------+--------------------+--------+-------------------+---------+----------+--------------+\n",
      "|InvoiceNo|StockCode|         Description|Quantity|        InvoiceDate|UnitPrice|CustomerID|       Country|\n",
      "+---------+---------+--------------------+--------+-------------------+---------+----------+--------------+\n",
      "|   536365|   85123A|WHITE HANGING HEA...|       6|2010-12-01 08:26:00|     2.55|   17850.0|United Kingdom|\n",
      "|   536365|    71053| WHITE METAL LANTERN|       6|2010-12-01 08:26:00|     3.39|   17850.0|United Kingdom|\n",
      "|   536365|   84406B|CREAM CUPID HEART...|       8|2010-12-01 08:26:00|     2.75|   17850.0|United Kingdom|\n",
      "|   536365|   84029G|KNITTED UNION FLA...|       6|2010-12-01 08:26:00|     3.39|   17850.0|United Kingdom|\n",
      "|   536365|   84029E|RED WOOLLY HOTTIE...|       6|2010-12-01 08:26:00|     3.39|   17850.0|United Kingdom|\n",
      "|   536365|    22752|SET 7 BABUSHKA NE...|       2|2010-12-01 08:26:00|     7.65|   17850.0|United Kingdom|\n",
      "|   536365|    21730|GLASS STAR FROSTE...|       6|2010-12-01 08:26:00|     4.25|   17850.0|United Kingdom|\n",
      "|   536366|    22633|HAND WARMER UNION...|       6|2010-12-01 08:28:00|     1.85|   17850.0|United Kingdom|\n",
      "|   536366|    22632|HAND WARMER RED P...|       6|2010-12-01 08:28:00|     1.85|   17850.0|United Kingdom|\n",
      "|   536367|    84879|ASSORTED COLOUR B...|      32|2010-12-01 08:34:00|     1.69|   13047.0|United Kingdom|\n",
      "|   536367|    22745|POPPY'S PLAYHOUSE...|       6|2010-12-01 08:34:00|      2.1|   13047.0|United Kingdom|\n",
      "|   536367|    22748|POPPY'S PLAYHOUSE...|       6|2010-12-01 08:34:00|      2.1|   13047.0|United Kingdom|\n",
      "|   536367|    22749|FELTCRAFT PRINCES...|       8|2010-12-01 08:34:00|     3.75|   13047.0|United Kingdom|\n",
      "|   536367|    22310|IVORY KNITTED MUG...|       6|2010-12-01 08:34:00|     1.65|   13047.0|United Kingdom|\n",
      "|   536367|    84969|BOX OF 6 ASSORTED...|       6|2010-12-01 08:34:00|     4.25|   13047.0|United Kingdom|\n",
      "|   536367|    22623|BOX OF VINTAGE JI...|       3|2010-12-01 08:34:00|     4.95|   13047.0|United Kingdom|\n",
      "|   536367|    22622|BOX OF VINTAGE AL...|       2|2010-12-01 08:34:00|     9.95|   13047.0|United Kingdom|\n",
      "|   536367|    21754|HOME BUILDING BLO...|       3|2010-12-01 08:34:00|     5.95|   13047.0|United Kingdom|\n",
      "|   536367|    21755|LOVE BUILDING BLO...|       3|2010-12-01 08:34:00|     5.95|   13047.0|United Kingdom|\n",
      "|   536367|    21777|RECIPE BOX WITH M...|       4|2010-12-01 08:34:00|     7.95|   13047.0|United Kingdom|\n",
      "+---------+---------+--------------------+--------+-------------------+---------+----------+--------------+\n",
      "only showing top 20 rows\n",
      "\n"
     ]
    }
   ],
   "source": [
    "df.show()"
   ]
  },
  {
   "cell_type": "code",
   "execution_count": 8,
   "id": "f16d3248-85b8-4d83-837e-6cba5a1f87a4",
   "metadata": {},
   "outputs": [
    {
     "name": "stdout",
     "output_type": "stream",
     "text": [
      "root\n",
      " |-- InvoiceNo: string (nullable = true)\n",
      " |-- StockCode: string (nullable = true)\n",
      " |-- Description: string (nullable = true)\n",
      " |-- Quantity: integer (nullable = true)\n",
      " |-- InvoiceDate: timestamp (nullable = true)\n",
      " |-- UnitPrice: double (nullable = true)\n",
      " |-- CustomerID: double (nullable = true)\n",
      " |-- Country: string (nullable = true)\n",
      "\n"
     ]
    }
   ],
   "source": [
    "df.printSchema()"
   ]
  },
  {
   "cell_type": "code",
   "execution_count": 9,
   "id": "c56e0f71-f0ec-4d3e-b9ba-7f8ad7f674b3",
   "metadata": {},
   "outputs": [
    {
     "name": "stdout",
     "output_type": "stream",
     "text": [
      "StructType([StructField('InvoiceNo', StringType(), True), StructField('StockCode', StringType(), True), StructField('Description', StringType(), True), StructField('Quantity', IntegerType(), True), StructField('InvoiceDate', TimestampType(), True), StructField('UnitPrice', DoubleType(), True), StructField('CustomerID', DoubleType(), True), StructField('Country', StringType(), True)])\n"
     ]
    }
   ],
   "source": [
    "my_schema = df.schema\n",
    "\n",
    "print(my_schema)"
   ]
  },
  {
   "cell_type": "code",
   "execution_count": 10,
   "id": "5f573f29-dc53-4579-8da9-306021c2f582",
   "metadata": {},
   "outputs": [],
   "source": [
    "from pyspark.sql.types import *"
   ]
  },
  {
   "cell_type": "code",
   "execution_count": 11,
   "id": "029f02a2-f594-4091-8736-b256f198761b",
   "metadata": {},
   "outputs": [],
   "source": [
    "my_schema2 = StructType([StructField('InvoiceNo', StringType(), True), \n",
    "            StructField('StockCode', StringType(), True), \n",
    "            StructField('Description', StringType(), True), \n",
    "            StructField('Quantity', IntegerType(), True), \n",
    "            StructField('InvoiceDate', TimestampType(), True), \n",
    "            StructField('UnitPrice', DoubleType(), True), \n",
    "            StructField('CustomerID', StringType(), True), \n",
    "            StructField('Country', StringType(), True)])"
   ]
  },
  {
   "cell_type": "code",
   "execution_count": 12,
   "id": "38578a79-92ce-4f80-b854-ac4bd668bc14",
   "metadata": {},
   "outputs": [],
   "source": [
    "df2 = spark.read.format(\"csv\").option(\"header\", True).schema(my_schema2).load(\"file:///opt/examples/OnlineRetail2.csv\")"
   ]
  },
  {
   "cell_type": "code",
   "execution_count": 13,
   "id": "50261987-c33c-4b58-a01d-14b48d68be2f",
   "metadata": {},
   "outputs": [
    {
     "name": "stdout",
     "output_type": "stream",
     "text": [
      "+---------+---------+--------------------+--------+-------------------+---------+----------+--------------+\n",
      "|InvoiceNo|StockCode|         Description|Quantity|        InvoiceDate|UnitPrice|CustomerID|       Country|\n",
      "+---------+---------+--------------------+--------+-------------------+---------+----------+--------------+\n",
      "|   536365|   85123A|WHITE HANGING HEA...|       6|2010-12-01 08:26:00|     2.55|   17850.0|United Kingdom|\n",
      "|   536365|    71053| WHITE METAL LANTERN|       6|2010-12-01 08:26:00|     3.39|   17850.0|United Kingdom|\n",
      "|   536365|   84406B|CREAM CUPID HEART...|       8|2010-12-01 08:26:00|     2.75|   17850.0|United Kingdom|\n",
      "|   536365|   84029G|KNITTED UNION FLA...|       6|2010-12-01 08:26:00|     3.39|   17850.0|United Kingdom|\n",
      "|   536365|   84029E|RED WOOLLY HOTTIE...|       6|2010-12-01 08:26:00|     3.39|   17850.0|United Kingdom|\n",
      "|   536365|    22752|SET 7 BABUSHKA NE...|       2|2010-12-01 08:26:00|     7.65|   17850.0|United Kingdom|\n",
      "|   536365|    21730|GLASS STAR FROSTE...|       6|2010-12-01 08:26:00|     4.25|   17850.0|United Kingdom|\n",
      "|   536366|    22633|HAND WARMER UNION...|       6|2010-12-01 08:28:00|     1.85|   17850.0|United Kingdom|\n",
      "|   536366|    22632|HAND WARMER RED P...|       6|2010-12-01 08:28:00|     1.85|   17850.0|United Kingdom|\n",
      "|   536367|    84879|ASSORTED COLOUR B...|      32|2010-12-01 08:34:00|     1.69|   13047.0|United Kingdom|\n",
      "|   536367|    22745|POPPY'S PLAYHOUSE...|       6|2010-12-01 08:34:00|      2.1|   13047.0|United Kingdom|\n",
      "|   536367|    22748|POPPY'S PLAYHOUSE...|       6|2010-12-01 08:34:00|      2.1|   13047.0|United Kingdom|\n",
      "|   536367|    22749|FELTCRAFT PRINCES...|       8|2010-12-01 08:34:00|     3.75|   13047.0|United Kingdom|\n",
      "|   536367|    22310|IVORY KNITTED MUG...|       6|2010-12-01 08:34:00|     1.65|   13047.0|United Kingdom|\n",
      "|   536367|    84969|BOX OF 6 ASSORTED...|       6|2010-12-01 08:34:00|     4.25|   13047.0|United Kingdom|\n",
      "|   536367|    22623|BOX OF VINTAGE JI...|       3|2010-12-01 08:34:00|     4.95|   13047.0|United Kingdom|\n",
      "|   536367|    22622|BOX OF VINTAGE AL...|       2|2010-12-01 08:34:00|     9.95|   13047.0|United Kingdom|\n",
      "|   536367|    21754|HOME BUILDING BLO...|       3|2010-12-01 08:34:00|     5.95|   13047.0|United Kingdom|\n",
      "|   536367|    21755|LOVE BUILDING BLO...|       3|2010-12-01 08:34:00|     5.95|   13047.0|United Kingdom|\n",
      "|   536367|    21777|RECIPE BOX WITH M...|       4|2010-12-01 08:34:00|     7.95|   13047.0|United Kingdom|\n",
      "+---------+---------+--------------------+--------+-------------------+---------+----------+--------------+\n",
      "only showing top 20 rows\n",
      "\n"
     ]
    }
   ],
   "source": [
    "df2.show()"
   ]
  },
  {
   "cell_type": "code",
   "execution_count": 14,
   "id": "7ae40c7c-a381-45fd-8224-da5f0f4b2f79",
   "metadata": {},
   "outputs": [
    {
     "name": "stdout",
     "output_type": "stream",
     "text": [
      "root\n",
      " |-- InvoiceNo: string (nullable = true)\n",
      " |-- StockCode: string (nullable = true)\n",
      " |-- Description: string (nullable = true)\n",
      " |-- Quantity: integer (nullable = true)\n",
      " |-- InvoiceDate: timestamp (nullable = true)\n",
      " |-- UnitPrice: double (nullable = true)\n",
      " |-- CustomerID: string (nullable = true)\n",
      " |-- Country: string (nullable = true)\n",
      "\n"
     ]
    }
   ],
   "source": [
    "df2.printSchema()"
   ]
  },
  {
   "cell_type": "markdown",
   "id": "cc17443b-4b1a-421d-8967-89385be33933",
   "metadata": {},
   "source": [
    "# Filter (SQL where clause)"
   ]
  },
  {
   "cell_type": "code",
   "execution_count": 27,
   "id": "6c960d37-5252-4494-9244-b531713996ac",
   "metadata": {},
   "outputs": [
    {
     "name": "stdout",
     "output_type": "stream",
     "text": [
      "+---------+---------+--------------------+--------+-------------------+---------+----------+--------------+\n",
      "|InvoiceNo|StockCode|         Description|Quantity|        InvoiceDate|UnitPrice|CustomerID|       Country|\n",
      "+---------+---------+--------------------+--------+-------------------+---------+----------+--------------+\n",
      "|   536365|   85123A|WHITE HANGING HEA...|       6|2010-12-01 08:26:00|     2.55|   17850.0|United Kingdom|\n",
      "|   536365|   84406B|CREAM CUPID HEART...|       8|2010-12-01 08:26:00|     2.75|   17850.0|United Kingdom|\n",
      "|   536366|    22633|HAND WARMER UNION...|       6|2010-12-01 08:28:00|     1.85|   17850.0|United Kingdom|\n",
      "|   536366|    22632|HAND WARMER RED P...|       6|2010-12-01 08:28:00|     1.85|   17850.0|United Kingdom|\n",
      "|   536367|    84879|ASSORTED COLOUR B...|      32|2010-12-01 08:34:00|     1.69|   13047.0|United Kingdom|\n",
      "|   536367|    22745|POPPY'S PLAYHOUSE...|       6|2010-12-01 08:34:00|      2.1|   13047.0|United Kingdom|\n",
      "|   536367|    22748|POPPY'S PLAYHOUSE...|       6|2010-12-01 08:34:00|      2.1|   13047.0|United Kingdom|\n",
      "|   536367|    22310|IVORY KNITTED MUG...|       6|2010-12-01 08:34:00|     1.65|   13047.0|United Kingdom|\n",
      "|   536371|    22086|PAPER CHAIN KIT 5...|      80|2010-12-01 09:00:00|     2.55|   13748.0|United Kingdom|\n",
      "|   536372|    22632|HAND WARMER RED P...|       6|2010-12-01 09:01:00|     1.85|   17850.0|United Kingdom|\n",
      "|   536372|    22633|HAND WARMER UNION...|       6|2010-12-01 09:01:00|     1.85|   17850.0|United Kingdom|\n",
      "|   536373|   85123A|WHITE HANGING HEA...|       6|2010-12-01 09:02:00|     2.55|   17850.0|United Kingdom|\n",
      "|   536373|   84406B|CREAM CUPID HEART...|       8|2010-12-01 09:02:00|     2.75|   17850.0|United Kingdom|\n",
      "|   536373|    37370|RETRO COFFEE MUGS...|       6|2010-12-01 09:02:00|     1.06|   17850.0|United Kingdom|\n",
      "|   536373|    21871| SAVE THE PLANET MUG|       6|2010-12-01 09:02:00|     1.06|   17850.0|United Kingdom|\n",
      "|   536373|    21071|VINTAGE BILLBOARD...|       6|2010-12-01 09:02:00|     1.06|   17850.0|United Kingdom|\n",
      "|   536373|    21068|VINTAGE BILLBOARD...|       6|2010-12-01 09:02:00|     1.06|   17850.0|United Kingdom|\n",
      "|   536373|    82482|WOODEN PICTURE FR...|       6|2010-12-01 09:02:00|      2.1|   17850.0|United Kingdom|\n",
      "|   536373|   82494L|WOODEN FRAME ANTI...|       6|2010-12-01 09:02:00|     2.55|   17850.0|United Kingdom|\n",
      "|   536375|   85123A|WHITE HANGING HEA...|       6|2010-12-01 09:32:00|     2.55|   17850.0|United Kingdom|\n",
      "+---------+---------+--------------------+--------+-------------------+---------+----------+--------------+\n",
      "only showing top 20 rows\n",
      "\n"
     ]
    }
   ],
   "source": [
    "df2.filter(\"  Country == 'United Kingdom' AND UnitPrice < 3.00 \").show()"
   ]
  },
  {
   "cell_type": "code",
   "execution_count": 18,
   "id": "d6d2bf33-50ea-485d-b9d7-3d4273500ddc",
   "metadata": {},
   "outputs": [
    {
     "name": "stderr",
     "output_type": "stream",
     "text": [
      "                                                                                \r"
     ]
    },
    {
     "data": {
      "text/plain": [
       "325891"
      ]
     },
     "execution_count": 18,
     "metadata": {},
     "output_type": "execute_result"
    }
   ],
   "source": [
    "df2.filter(\"  Country == 'United Kingdom' AND UnitPrice < 3.00  \").count()"
   ]
  },
  {
   "cell_type": "code",
   "execution_count": 19,
   "id": "79ee674d-8119-4ba8-982d-ab07f77bb387",
   "metadata": {},
   "outputs": [],
   "source": [
    "df2.createTempView(\"online_retail\")"
   ]
  },
  {
   "cell_type": "code",
   "execution_count": 20,
   "id": "63f63f56-4bec-40b9-b225-931be3942079",
   "metadata": {},
   "outputs": [
    {
     "name": "stdout",
     "output_type": "stream",
     "text": [
      "+---------+---------+--------------------+--------+-------------------+---------+----------+--------------+\n",
      "|InvoiceNo|StockCode|         Description|Quantity|        InvoiceDate|UnitPrice|CustomerID|       Country|\n",
      "+---------+---------+--------------------+--------+-------------------+---------+----------+--------------+\n",
      "|   536365|   85123A|WHITE HANGING HEA...|       6|2010-12-01 08:26:00|     2.55|   17850.0|United Kingdom|\n",
      "|   536365|   84406B|CREAM CUPID HEART...|       8|2010-12-01 08:26:00|     2.75|   17850.0|United Kingdom|\n",
      "|   536366|    22633|HAND WARMER UNION...|       6|2010-12-01 08:28:00|     1.85|   17850.0|United Kingdom|\n",
      "|   536366|    22632|HAND WARMER RED P...|       6|2010-12-01 08:28:00|     1.85|   17850.0|United Kingdom|\n",
      "|   536367|    84879|ASSORTED COLOUR B...|      32|2010-12-01 08:34:00|     1.69|   13047.0|United Kingdom|\n",
      "|   536367|    22745|POPPY'S PLAYHOUSE...|       6|2010-12-01 08:34:00|      2.1|   13047.0|United Kingdom|\n",
      "|   536367|    22748|POPPY'S PLAYHOUSE...|       6|2010-12-01 08:34:00|      2.1|   13047.0|United Kingdom|\n",
      "|   536367|    22310|IVORY KNITTED MUG...|       6|2010-12-01 08:34:00|     1.65|   13047.0|United Kingdom|\n",
      "|   536371|    22086|PAPER CHAIN KIT 5...|      80|2010-12-01 09:00:00|     2.55|   13748.0|United Kingdom|\n",
      "|   536372|    22632|HAND WARMER RED P...|       6|2010-12-01 09:01:00|     1.85|   17850.0|United Kingdom|\n",
      "|   536372|    22633|HAND WARMER UNION...|       6|2010-12-01 09:01:00|     1.85|   17850.0|United Kingdom|\n",
      "|   536373|   85123A|WHITE HANGING HEA...|       6|2010-12-01 09:02:00|     2.55|   17850.0|United Kingdom|\n",
      "|   536373|   84406B|CREAM CUPID HEART...|       8|2010-12-01 09:02:00|     2.75|   17850.0|United Kingdom|\n",
      "|   536373|    37370|RETRO COFFEE MUGS...|       6|2010-12-01 09:02:00|     1.06|   17850.0|United Kingdom|\n",
      "|   536373|    21871| SAVE THE PLANET MUG|       6|2010-12-01 09:02:00|     1.06|   17850.0|United Kingdom|\n",
      "|   536373|    21071|VINTAGE BILLBOARD...|       6|2010-12-01 09:02:00|     1.06|   17850.0|United Kingdom|\n",
      "|   536373|    21068|VINTAGE BILLBOARD...|       6|2010-12-01 09:02:00|     1.06|   17850.0|United Kingdom|\n",
      "|   536373|    82482|WOODEN PICTURE FR...|       6|2010-12-01 09:02:00|      2.1|   17850.0|United Kingdom|\n",
      "|   536373|   82494L|WOODEN FRAME ANTI...|       6|2010-12-01 09:02:00|     2.55|   17850.0|United Kingdom|\n",
      "|   536375|   85123A|WHITE HANGING HEA...|       6|2010-12-01 09:32:00|     2.55|   17850.0|United Kingdom|\n",
      "+---------+---------+--------------------+--------+-------------------+---------+----------+--------------+\n",
      "only showing top 20 rows\n",
      "\n"
     ]
    }
   ],
   "source": [
    "spark.sql(\n",
    "\"\"\"\n",
    "\n",
    "SELECT * FROM online_retail\n",
    "WHERE Country == 'United Kingdom' AND UnitPrice < 3.00\n",
    "\n",
    "\n",
    "\"\"\"\n",
    "\n",
    ").show()"
   ]
  },
  {
   "cell_type": "code",
   "execution_count": 21,
   "id": "0a6d6047-e197-4aa3-a8c0-0e0930504b52",
   "metadata": {},
   "outputs": [
    {
     "name": "stderr",
     "output_type": "stream",
     "text": [
      "                                                                                \r"
     ]
    },
    {
     "data": {
      "text/plain": [
       "325891"
      ]
     },
     "execution_count": 21,
     "metadata": {},
     "output_type": "execute_result"
    }
   ],
   "source": [
    "spark.sql(\n",
    "\"\"\"\n",
    "\n",
    "SELECT * FROM online_retail\n",
    "WHERE Country == 'United Kingdom' AND UnitPrice < 3.00\n",
    "\n",
    "\n",
    "\"\"\"\n",
    "\n",
    ").count()"
   ]
  },
  {
   "cell_type": "markdown",
   "id": "75067e4c-a7ad-450f-878d-71869b1d935e",
   "metadata": {},
   "source": [
    "# Add new column"
   ]
  },
  {
   "cell_type": "code",
   "execution_count": 22,
   "id": "232f633f-d4f0-48a0-8244-b71a0eaad558",
   "metadata": {},
   "outputs": [],
   "source": [
    "df3 = df2.withColumn(\"TotalPrice\", df2['Quantity'] * df2['UnitPrice'])"
   ]
  },
  {
   "cell_type": "code",
   "execution_count": 26,
   "id": "9fbb0227-0ff3-44cc-9c8e-3c95968f712d",
   "metadata": {},
   "outputs": [
    {
     "name": "stdout",
     "output_type": "stream",
     "text": [
      "+---------+---------+--------------------+--------+-------------------+---------+----------+--------------+------------------+\n",
      "|InvoiceNo|StockCode|         Description|Quantity|        InvoiceDate|UnitPrice|CustomerID|       Country|        TotalPrice|\n",
      "+---------+---------+--------------------+--------+-------------------+---------+----------+--------------+------------------+\n",
      "|   536365|   85123A|WHITE HANGING HEA...|       6|2010-12-01 08:26:00|     2.55|   17850.0|United Kingdom|15.299999999999999|\n",
      "|   536365|    71053| WHITE METAL LANTERN|       6|2010-12-01 08:26:00|     3.39|   17850.0|United Kingdom|             20.34|\n",
      "|   536365|   84406B|CREAM CUPID HEART...|       8|2010-12-01 08:26:00|     2.75|   17850.0|United Kingdom|              22.0|\n",
      "|   536365|   84029G|KNITTED UNION FLA...|       6|2010-12-01 08:26:00|     3.39|   17850.0|United Kingdom|             20.34|\n",
      "|   536365|   84029E|RED WOOLLY HOTTIE...|       6|2010-12-01 08:26:00|     3.39|   17850.0|United Kingdom|             20.34|\n",
      "|   536365|    22752|SET 7 BABUSHKA NE...|       2|2010-12-01 08:26:00|     7.65|   17850.0|United Kingdom|              15.3|\n",
      "|   536365|    21730|GLASS STAR FROSTE...|       6|2010-12-01 08:26:00|     4.25|   17850.0|United Kingdom|              25.5|\n",
      "|   536366|    22633|HAND WARMER UNION...|       6|2010-12-01 08:28:00|     1.85|   17850.0|United Kingdom|11.100000000000001|\n",
      "|   536366|    22632|HAND WARMER RED P...|       6|2010-12-01 08:28:00|     1.85|   17850.0|United Kingdom|11.100000000000001|\n",
      "|   536367|    84879|ASSORTED COLOUR B...|      32|2010-12-01 08:34:00|     1.69|   13047.0|United Kingdom|             54.08|\n",
      "|   536367|    22745|POPPY'S PLAYHOUSE...|       6|2010-12-01 08:34:00|      2.1|   13047.0|United Kingdom|12.600000000000001|\n",
      "|   536367|    22748|POPPY'S PLAYHOUSE...|       6|2010-12-01 08:34:00|      2.1|   13047.0|United Kingdom|12.600000000000001|\n",
      "|   536367|    22749|FELTCRAFT PRINCES...|       8|2010-12-01 08:34:00|     3.75|   13047.0|United Kingdom|              30.0|\n",
      "|   536367|    22310|IVORY KNITTED MUG...|       6|2010-12-01 08:34:00|     1.65|   13047.0|United Kingdom| 9.899999999999999|\n",
      "|   536367|    84969|BOX OF 6 ASSORTED...|       6|2010-12-01 08:34:00|     4.25|   13047.0|United Kingdom|              25.5|\n",
      "|   536367|    22623|BOX OF VINTAGE JI...|       3|2010-12-01 08:34:00|     4.95|   13047.0|United Kingdom|14.850000000000001|\n",
      "|   536367|    22622|BOX OF VINTAGE AL...|       2|2010-12-01 08:34:00|     9.95|   13047.0|United Kingdom|              19.9|\n",
      "|   536367|    21754|HOME BUILDING BLO...|       3|2010-12-01 08:34:00|     5.95|   13047.0|United Kingdom|             17.85|\n",
      "|   536367|    21755|LOVE BUILDING BLO...|       3|2010-12-01 08:34:00|     5.95|   13047.0|United Kingdom|             17.85|\n",
      "|   536367|    21777|RECIPE BOX WITH M...|       4|2010-12-01 08:34:00|     7.95|   13047.0|United Kingdom|              31.8|\n",
      "+---------+---------+--------------------+--------+-------------------+---------+----------+--------------+------------------+\n",
      "only showing top 20 rows\n",
      "\n"
     ]
    }
   ],
   "source": [
    "df3.show()"
   ]
  },
  {
   "cell_type": "markdown",
   "id": "2ef176c5-5d9c-408b-98dd-7fea0cc3da52",
   "metadata": {},
   "source": [
    "# Drop columns"
   ]
  },
  {
   "cell_type": "code",
   "execution_count": 24,
   "id": "24793a76-ad3b-4471-8739-1ff7e5ea5956",
   "metadata": {},
   "outputs": [],
   "source": [
    "df4 = df3.drop(\"InvoiceDate\", \"CustomerID\")"
   ]
  },
  {
   "cell_type": "code",
   "execution_count": 25,
   "id": "a8b7ca6a-f159-432c-86f6-eee47fd66441",
   "metadata": {},
   "outputs": [
    {
     "name": "stdout",
     "output_type": "stream",
     "text": [
      "+---------+---------+--------------------+--------+---------+--------------+------------------+\n",
      "|InvoiceNo|StockCode|         Description|Quantity|UnitPrice|       Country|        TotalPrice|\n",
      "+---------+---------+--------------------+--------+---------+--------------+------------------+\n",
      "|   536365|   85123A|WHITE HANGING HEA...|       6|     2.55|United Kingdom|15.299999999999999|\n",
      "|   536365|    71053| WHITE METAL LANTERN|       6|     3.39|United Kingdom|             20.34|\n",
      "|   536365|   84406B|CREAM CUPID HEART...|       8|     2.75|United Kingdom|              22.0|\n",
      "|   536365|   84029G|KNITTED UNION FLA...|       6|     3.39|United Kingdom|             20.34|\n",
      "|   536365|   84029E|RED WOOLLY HOTTIE...|       6|     3.39|United Kingdom|             20.34|\n",
      "|   536365|    22752|SET 7 BABUSHKA NE...|       2|     7.65|United Kingdom|              15.3|\n",
      "|   536365|    21730|GLASS STAR FROSTE...|       6|     4.25|United Kingdom|              25.5|\n",
      "|   536366|    22633|HAND WARMER UNION...|       6|     1.85|United Kingdom|11.100000000000001|\n",
      "|   536366|    22632|HAND WARMER RED P...|       6|     1.85|United Kingdom|11.100000000000001|\n",
      "|   536367|    84879|ASSORTED COLOUR B...|      32|     1.69|United Kingdom|             54.08|\n",
      "|   536367|    22745|POPPY'S PLAYHOUSE...|       6|      2.1|United Kingdom|12.600000000000001|\n",
      "|   536367|    22748|POPPY'S PLAYHOUSE...|       6|      2.1|United Kingdom|12.600000000000001|\n",
      "|   536367|    22749|FELTCRAFT PRINCES...|       8|     3.75|United Kingdom|              30.0|\n",
      "|   536367|    22310|IVORY KNITTED MUG...|       6|     1.65|United Kingdom| 9.899999999999999|\n",
      "|   536367|    84969|BOX OF 6 ASSORTED...|       6|     4.25|United Kingdom|              25.5|\n",
      "|   536367|    22623|BOX OF VINTAGE JI...|       3|     4.95|United Kingdom|14.850000000000001|\n",
      "|   536367|    22622|BOX OF VINTAGE AL...|       2|     9.95|United Kingdom|              19.9|\n",
      "|   536367|    21754|HOME BUILDING BLO...|       3|     5.95|United Kingdom|             17.85|\n",
      "|   536367|    21755|LOVE BUILDING BLO...|       3|     5.95|United Kingdom|             17.85|\n",
      "|   536367|    21777|RECIPE BOX WITH M...|       4|     7.95|United Kingdom|              31.8|\n",
      "+---------+---------+--------------------+--------+---------+--------------+------------------+\n",
      "only showing top 20 rows\n",
      "\n"
     ]
    }
   ],
   "source": [
    "df4.show()"
   ]
  },
  {
   "cell_type": "markdown",
   "id": "1a763180-7976-4f24-934e-0daa35fa5b3b",
   "metadata": {},
   "source": [
    "# SELECT"
   ]
  },
  {
   "cell_type": "code",
   "execution_count": 29,
   "id": "84b5642d-35b6-47da-9bcd-bcfe6eeb244b",
   "metadata": {},
   "outputs": [
    {
     "name": "stdout",
     "output_type": "stream",
     "text": [
      "+-----------------------------------+---------+\n",
      "|Description                        |UnitPrice|\n",
      "+-----------------------------------+---------+\n",
      "|WHITE HANGING HEART T-LIGHT HOLDER |2.55     |\n",
      "|WHITE METAL LANTERN                |3.39     |\n",
      "|CREAM CUPID HEARTS COAT HANGER     |2.75     |\n",
      "|KNITTED UNION FLAG HOT WATER BOTTLE|3.39     |\n",
      "|RED WOOLLY HOTTIE WHITE HEART.     |3.39     |\n",
      "|SET 7 BABUSHKA NESTING BOXES       |7.65     |\n",
      "|GLASS STAR FROSTED T-LIGHT HOLDER  |4.25     |\n",
      "|HAND WARMER UNION JACK             |1.85     |\n",
      "|HAND WARMER RED POLKA DOT          |1.85     |\n",
      "|ASSORTED COLOUR BIRD ORNAMENT      |1.69     |\n",
      "|POPPY'S PLAYHOUSE BEDROOM          |2.1      |\n",
      "|POPPY'S PLAYHOUSE KITCHEN          |2.1      |\n",
      "|FELTCRAFT PRINCESS CHARLOTTE DOLL  |3.75     |\n",
      "|IVORY KNITTED MUG COSY             |1.65     |\n",
      "|BOX OF 6 ASSORTED COLOUR TEASPOONS |4.25     |\n",
      "|BOX OF VINTAGE JIGSAW BLOCKS       |4.95     |\n",
      "|BOX OF VINTAGE ALPHABET BLOCKS     |9.95     |\n",
      "|HOME BUILDING BLOCK WORD           |5.95     |\n",
      "|LOVE BUILDING BLOCK WORD           |5.95     |\n",
      "|RECIPE BOX WITH METAL HEART        |7.95     |\n",
      "+-----------------------------------+---------+\n",
      "only showing top 20 rows\n",
      "\n"
     ]
    }
   ],
   "source": [
    "df3.select(\"Description\",\"UnitPrice\").show(truncate=False)"
   ]
  },
  {
   "cell_type": "code",
   "execution_count": 30,
   "id": "cc71abaa-cffc-4817-9676-a0750f14e5ea",
   "metadata": {},
   "outputs": [],
   "source": [
    "df5 = df3.select(\"Description\",\"UnitPrice\")"
   ]
  },
  {
   "cell_type": "code",
   "execution_count": 31,
   "id": "db7c4cab-f92f-4011-823a-6930d8b986d5",
   "metadata": {},
   "outputs": [
    {
     "name": "stdout",
     "output_type": "stream",
     "text": [
      "+--------------------+---------+\n",
      "|         Description|UnitPrice|\n",
      "+--------------------+---------+\n",
      "|WHITE HANGING HEA...|     2.55|\n",
      "| WHITE METAL LANTERN|     3.39|\n",
      "|CREAM CUPID HEART...|     2.75|\n",
      "|KNITTED UNION FLA...|     3.39|\n",
      "|RED WOOLLY HOTTIE...|     3.39|\n",
      "|SET 7 BABUSHKA NE...|     7.65|\n",
      "|GLASS STAR FROSTE...|     4.25|\n",
      "|HAND WARMER UNION...|     1.85|\n",
      "|HAND WARMER RED P...|     1.85|\n",
      "|ASSORTED COLOUR B...|     1.69|\n",
      "|POPPY'S PLAYHOUSE...|      2.1|\n",
      "|POPPY'S PLAYHOUSE...|      2.1|\n",
      "|FELTCRAFT PRINCES...|     3.75|\n",
      "|IVORY KNITTED MUG...|     1.65|\n",
      "|BOX OF 6 ASSORTED...|     4.25|\n",
      "|BOX OF VINTAGE JI...|     4.95|\n",
      "|BOX OF VINTAGE AL...|     9.95|\n",
      "|HOME BUILDING BLO...|     5.95|\n",
      "|LOVE BUILDING BLO...|     5.95|\n",
      "|RECIPE BOX WITH M...|     7.95|\n",
      "+--------------------+---------+\n",
      "only showing top 20 rows\n",
      "\n"
     ]
    }
   ],
   "source": [
    "df5.show()"
   ]
  },
  {
   "cell_type": "code",
   "execution_count": null,
   "id": "ae175ecc-0b38-44d5-ad38-e9cf13d6c623",
   "metadata": {},
   "outputs": [],
   "source": []
  }
 ],
 "metadata": {
  "kernelspec": {
   "display_name": "Python 3 (ipykernel)",
   "language": "python",
   "name": "python3"
  },
  "language_info": {
   "codemirror_mode": {
    "name": "ipython",
    "version": 3
   },
   "file_extension": ".py",
   "mimetype": "text/x-python",
   "name": "python",
   "nbconvert_exporter": "python",
   "pygments_lexer": "ipython3",
   "version": "3.8.18"
  }
 },
 "nbformat": 4,
 "nbformat_minor": 5
}
